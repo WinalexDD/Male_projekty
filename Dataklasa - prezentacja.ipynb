{
 "cells": [
  {
   "cell_type": "markdown",
   "id": "f2cf1c18",
   "metadata": {},
   "source": [
    "# DATAKLASY"
   ]
  },
  {
   "cell_type": "markdown",
   "id": "46495306",
   "metadata": {},
   "source": [
    "Idea - chcemy stworzyć klase reprezentującą karty, ich figury (ang. rank) i kolory (ang. suit) a następnie przy pomocy tej klasy móc tworzyć całe talie kart (ang. deck)."
   ]
  },
  {
   "cell_type": "markdown",
   "id": "54c64dd2",
   "metadata": {},
   "source": [
    "# Pomysł 1 - zwykła klasa"
   ]
  },
  {
   "cell_type": "markdown",
   "id": "fd7693a8",
   "metadata": {},
   "source": [
    "Klasa:"
   ]
  },
  {
   "cell_type": "code",
   "execution_count": 1,
   "id": "c9f8a98e",
   "metadata": {},
   "outputs": [],
   "source": [
    "class RegularCard:\n",
    "    \n",
    "    def __init__(self, rank, suit):\n",
    "        self.rank = rank\n",
    "        self.suit = suit"
   ]
  },
  {
   "cell_type": "markdown",
   "id": "de630b74",
   "metadata": {},
   "source": [
    "Testowanie:"
   ]
  },
  {
   "cell_type": "code",
   "execution_count": 2,
   "id": "54131792",
   "metadata": {},
   "outputs": [
    {
     "data": {
      "text/plain": [
       "('Hearts', 'Q')"
      ]
     },
     "execution_count": 2,
     "metadata": {},
     "output_type": "execute_result"
    }
   ],
   "source": [
    "queen_of_hearts = RegularCard('Q', 'Hearts')\n",
    "queen_of_hearts.suit, queen_of_hearts.rank"
   ]
  },
  {
   "cell_type": "code",
   "execution_count": 3,
   "id": "4a5f4842",
   "metadata": {},
   "outputs": [
    {
     "data": {
      "text/plain": [
       "<__main__.RegularCard at 0x2e442f1b7f0>"
      ]
     },
     "execution_count": 3,
     "metadata": {},
     "output_type": "execute_result"
    }
   ],
   "source": [
    "queen_of_hearts"
   ]
  },
  {
   "cell_type": "code",
   "execution_count": 4,
   "id": "7d4c8324",
   "metadata": {},
   "outputs": [
    {
     "data": {
      "text/plain": [
       "False"
      ]
     },
     "execution_count": 4,
     "metadata": {},
     "output_type": "execute_result"
    }
   ],
   "source": [
    "queen_of_hearts == RegularCard('Q', 'Hearts')"
   ]
  },
  {
   "cell_type": "markdown",
   "id": "e9fecfd3",
   "metadata": {},
   "source": [
    "Problematyczny tutaj jest fakt, ze nie wyświetla nam sie karta z jej kolorem i figurą a nazwa stworzonego obiektu co uniemożliwia przyrównywanie kart do siebie."
   ]
  },
  {
   "cell_type": "markdown",
   "id": "67a5e200",
   "metadata": {},
   "source": [
    "Sposobem na naprawe jest dodanie do klasy metod repr by je lepiej wyświetlać i eq by moc porównywać obiekty tej klasy."
   ]
  },
  {
   "cell_type": "markdown",
   "id": "aa113de7",
   "metadata": {},
   "source": [
    "Klasa:"
   ]
  },
  {
   "cell_type": "code",
   "execution_count": 5,
   "id": "69626bd0",
   "metadata": {},
   "outputs": [],
   "source": [
    "class RegularCard:\n",
    "    \n",
    "    def __init__(self, rank, suit):\n",
    "        self.rank = rank\n",
    "        self.suit = suit\n",
    "        \n",
    "    def __eq__(self, other): \n",
    "        if (self.rank==other.rank) and (self.suit==other.suit):\n",
    "            return True\n",
    "        else:\n",
    "            return False  \n",
    "        \n",
    "    def __repr__(self):\n",
    "        return f\"RegularCard(rank = {self.rank}, suit = {self.suit})\""
   ]
  },
  {
   "cell_type": "markdown",
   "id": "6d4505cc",
   "metadata": {},
   "source": [
    "Testowanie:"
   ]
  },
  {
   "cell_type": "code",
   "execution_count": 6,
   "id": "15474636",
   "metadata": {},
   "outputs": [
    {
     "data": {
      "text/plain": [
       "('Hearts', 'Q')"
      ]
     },
     "execution_count": 6,
     "metadata": {},
     "output_type": "execute_result"
    }
   ],
   "source": [
    "queen_of_hearts = RegularCard('Q', 'Hearts')\n",
    "queen_of_hearts.suit, queen_of_hearts.rank"
   ]
  },
  {
   "cell_type": "code",
   "execution_count": 7,
   "id": "169eae62",
   "metadata": {},
   "outputs": [
    {
     "data": {
      "text/plain": [
       "RegularCard(rank = Q, suit = Hearts)"
      ]
     },
     "execution_count": 7,
     "metadata": {},
     "output_type": "execute_result"
    }
   ],
   "source": [
    "queen_of_hearts"
   ]
  },
  {
   "cell_type": "code",
   "execution_count": 8,
   "id": "ec04c923",
   "metadata": {},
   "outputs": [
    {
     "data": {
      "text/plain": [
       "True"
      ]
     },
     "execution_count": 8,
     "metadata": {},
     "output_type": "execute_result"
    }
   ],
   "source": [
    "queen_of_hearts == RegularCard('Q', 'Hearts')"
   ]
  },
  {
   "cell_type": "markdown",
   "id": "d0844309",
   "metadata": {},
   "source": [
    "Tak napisana klasa działa poprawnie, jednak wymaga to dosyć dużo kodu jak na tak prostą implementacje."
   ]
  },
  {
   "cell_type": "markdown",
   "id": "54047a85",
   "metadata": {},
   "source": [
    "# Pomysł 2 - namedtuple"
   ]
  },
  {
   "cell_type": "markdown",
   "id": "2fb3fb44",
   "metadata": {},
   "source": [
    "Drugim podejściem będzie skorzystanie z namedutple, czyli rozbudowanych tupli pozwalajacych tworzyć obiekty "
   ]
  },
  {
   "cell_type": "markdown",
   "id": "380d7f48",
   "metadata": {},
   "source": [
    "Namedtuple:"
   ]
  },
  {
   "cell_type": "code",
   "execution_count": 9,
   "id": "dc36fe66",
   "metadata": {},
   "outputs": [],
   "source": [
    "from collections import namedtuple\n",
    "\n",
    "DataClassCard = namedtuple('DataClassCard', ['rank', 'suit'])"
   ]
  },
  {
   "cell_type": "markdown",
   "id": "30dd9382",
   "metadata": {},
   "source": [
    "Testowanie:"
   ]
  },
  {
   "cell_type": "code",
   "execution_count": 10,
   "id": "8c64e6dc",
   "metadata": {},
   "outputs": [
    {
     "data": {
      "text/plain": [
       "('Q', 'Hearts')"
      ]
     },
     "execution_count": 10,
     "metadata": {},
     "output_type": "execute_result"
    }
   ],
   "source": [
    "queen_of_hearts = DataClassCard('Q', 'Hearts')\n",
    "queen_of_hearts.rank, queen_of_hearts.suit"
   ]
  },
  {
   "cell_type": "code",
   "execution_count": 11,
   "id": "5e001549",
   "metadata": {},
   "outputs": [
    {
     "data": {
      "text/plain": [
       "DataClassCard(rank='Q', suit='Hearts')"
      ]
     },
     "execution_count": 11,
     "metadata": {},
     "output_type": "execute_result"
    }
   ],
   "source": [
    "queen_of_hearts"
   ]
  },
  {
   "cell_type": "code",
   "execution_count": 12,
   "id": "1eb61a4f",
   "metadata": {},
   "outputs": [
    {
     "data": {
      "text/plain": [
       "True"
      ]
     },
     "execution_count": 12,
     "metadata": {},
     "output_type": "execute_result"
    }
   ],
   "source": [
    "queen_of_hearts == DataClassCard('Q', 'Hearts')"
   ]
  },
  {
   "cell_type": "markdown",
   "id": "b082bee4",
   "metadata": {},
   "source": [
    "Namedtuple wydaje się działać w porządku. Jest to jednak złudne przeświadczenie, gdyż namedtuple jest podatne na sytuacje jak :"
   ]
  },
  {
   "cell_type": "code",
   "execution_count": 13,
   "id": "12af46e5",
   "metadata": {},
   "outputs": [
    {
     "data": {
      "text/plain": [
       "True"
      ]
     },
     "execution_count": 13,
     "metadata": {},
     "output_type": "execute_result"
    }
   ],
   "source": [
    "NotCard = namedtuple('NotCard', ['notrank', 'notsuit'])\n",
    "queen_of_hearts == NotCard('Q', 'Hearts')"
   ]
  },
  {
   "cell_type": "markdown",
   "id": "e067f58d",
   "metadata": {},
   "source": [
    "Tak więc namedtuple nie są dobrym rozwiązaniem, moge one jedynie być przydatne jako urozmaicenie metody repr, np gdy podobny \n",
    "schemat wyświetlania danych będzie sie powielał w kilku klasach:"
   ]
  },
  {
   "cell_type": "code",
   "execution_count": 14,
   "id": "d9362cba",
   "metadata": {},
   "outputs": [],
   "source": [
    "DataClassCard = namedtuple('DataClassCard', ['rank', 'suit'])\n",
    "\n",
    "class RegularCard:\n",
    "    \n",
    "    def __init__(self, rank, suit):\n",
    "        self.rank = rank\n",
    "        self.suit = suit\n",
    "        \n",
    "    def __eq__(self, other): \n",
    "        if (self.rank==other.rank) and (self.suit==other.suit):\n",
    "            return True\n",
    "        else:\n",
    "            return False  \n",
    "        \n",
    "    def __repr__(self):\n",
    "        return str(DataClassCard(rank=self.rank, suit=self.suit))"
   ]
  },
  {
   "cell_type": "code",
   "execution_count": 15,
   "id": "96804798",
   "metadata": {},
   "outputs": [
    {
     "data": {
      "text/plain": [
       "('Hearts', 'Q')"
      ]
     },
     "execution_count": 15,
     "metadata": {},
     "output_type": "execute_result"
    }
   ],
   "source": [
    "queen_of_hearts = RegularCard('Q', 'Hearts')\n",
    "queen_of_hearts.suit, queen_of_hearts.rank"
   ]
  },
  {
   "cell_type": "code",
   "execution_count": 16,
   "id": "d38bd70f",
   "metadata": {},
   "outputs": [
    {
     "data": {
      "text/plain": [
       "DataClassCard(rank='Q', suit='Hearts')"
      ]
     },
     "execution_count": 16,
     "metadata": {},
     "output_type": "execute_result"
    }
   ],
   "source": [
    "queen_of_hearts"
   ]
  },
  {
   "cell_type": "code",
   "execution_count": 17,
   "id": "dca84216",
   "metadata": {},
   "outputs": [
    {
     "data": {
      "text/plain": [
       "True"
      ]
     },
     "execution_count": 17,
     "metadata": {},
     "output_type": "execute_result"
    }
   ],
   "source": [
    "queen_of_hearts == RegularCard('Q', 'Hearts')"
   ]
  },
  {
   "cell_type": "markdown",
   "id": "134d7e04",
   "metadata": {},
   "source": [
    "# Rozwiązanie - dataklasa"
   ]
  },
  {
   "cell_type": "markdown",
   "id": "abfe8865",
   "metadata": {},
   "source": [
    "Najlepszym sposobem na stworzenie takiej klasy przy minimalnej dlugości kodu są dataklasy. Dataklasy to obiekty z pakietu o takiej samej nazwie będące uproszczeniem zwykłych klas poprzez automatyczne przypisanie podstawowych metod takich jak: \n",
    "- __init__ do definiowania zmiennych wewnątrz klasy\n",
    "- __eq__ do porównywania obiektów tej samej klasy \n",
    "- __repr__ do wyświetlania obiektów danej klasy\n",
    "\n",
    "bez koniecznosci ręcznego, osobistego definiowania, co oszczędza nam znaczną część kodu."
   ]
  },
  {
   "cell_type": "code",
   "execution_count": 18,
   "id": "7ad457cc",
   "metadata": {},
   "outputs": [],
   "source": [
    "from dataclasses import dataclass\n",
    "\n",
    "@dataclass\n",
    "class DataClassCard:\n",
    "    rank: str\n",
    "    suit: str"
   ]
  },
  {
   "cell_type": "markdown",
   "id": "9aaa3e47",
   "metadata": {},
   "source": [
    "Testowanie:"
   ]
  },
  {
   "cell_type": "code",
   "execution_count": 19,
   "id": "253a57af",
   "metadata": {},
   "outputs": [
    {
     "data": {
      "text/plain": [
       "('Q', 'Hearts')"
      ]
     },
     "execution_count": 19,
     "metadata": {},
     "output_type": "execute_result"
    }
   ],
   "source": [
    "queen_of_hearts = DataClassCard('Q', 'Hearts')\n",
    "queen_of_hearts.rank, queen_of_hearts.suit"
   ]
  },
  {
   "cell_type": "code",
   "execution_count": 20,
   "id": "8b0d7ff1",
   "metadata": {},
   "outputs": [
    {
     "data": {
      "text/plain": [
       "DataClassCard(rank='Q', suit='Hearts')"
      ]
     },
     "execution_count": 20,
     "metadata": {},
     "output_type": "execute_result"
    }
   ],
   "source": [
    "queen_of_hearts"
   ]
  },
  {
   "cell_type": "code",
   "execution_count": 21,
   "id": "c2ef7214",
   "metadata": {},
   "outputs": [
    {
     "data": {
      "text/plain": [
       "True"
      ]
     },
     "execution_count": 21,
     "metadata": {},
     "output_type": "execute_result"
    }
   ],
   "source": [
    "queen_of_hearts == DataClassCard('Q', 'Hearts')"
   ]
  },
  {
   "cell_type": "markdown",
   "id": "8214297d",
   "metadata": {},
   "source": [
    "Jak widać w powyższym przykładzie, w dataklasach stosuje się adnotacje typów do definiowania zmiennych. Tak jak w zwykłej klasie, możemy tutaj definiować różne typy zmiennych oraz przypisywać im wartości bazowe:"
   ]
  },
  {
   "cell_type": "code",
   "execution_count": 22,
   "id": "c2a86fbc",
   "metadata": {},
   "outputs": [
    {
     "data": {
      "text/plain": [
       "aaa(rank=1, suit='a', sit=0.5)"
      ]
     },
     "execution_count": 22,
     "metadata": {},
     "output_type": "execute_result"
    }
   ],
   "source": [
    "@dataclass\n",
    "class aaa:\n",
    "    rank: int = 1\n",
    "    suit: str = \"a\"\n",
    "    sit: float = 0.5   \n",
    "aaa()"
   ]
  },
  {
   "cell_type": "markdown",
   "id": "981fa623",
   "metadata": {},
   "source": [
    "Mając już satysfakcjonującą klase naszych kart możemy przejść do drugiego etapu czyli tworzenia z nich talii. "
   ]
  },
  {
   "cell_type": "markdown",
   "id": "6e90b2cd",
   "metadata": {},
   "source": [
    "# Talie Kart "
   ]
  },
  {
   "cell_type": "markdown",
   "id": "041c8ab1",
   "metadata": {},
   "source": [
    "Najbardziej podstawową implementacją talli kart będzie stworzenie listy złożonej z obiektów klasy kart, przy pomocy funkcji List[type]."
   ]
  },
  {
   "cell_type": "code",
   "execution_count": 23,
   "id": "8c2ed4d9",
   "metadata": {},
   "outputs": [],
   "source": [
    "from typing import List\n",
    "\n",
    "@dataclass\n",
    "class Deck:\n",
    "    cards: List[DataClassCard]"
   ]
  },
  {
   "cell_type": "code",
   "execution_count": 24,
   "id": "51098edc",
   "metadata": {},
   "outputs": [
    {
     "data": {
      "text/plain": [
       "Deck(cards=[DataClassCard(rank='Q', suit='Hearts'), DataClassCard(rank='A', suit='Spades')])"
      ]
     },
     "execution_count": 24,
     "metadata": {},
     "output_type": "execute_result"
    }
   ],
   "source": [
    "queen_of_hearts = DataClassCard('Q', 'Hearts')\n",
    "ace_of_spades = DataClassCard('A', 'Spades')\n",
    "two_cards = Deck([queen_of_hearts, ace_of_spades])\n",
    "two_cards"
   ]
  },
  {
   "cell_type": "markdown",
   "id": "44df5921",
   "metadata": {},
   "source": [
    "Jest to działająca metoda, jednak jest ona prosta i kodogenna gdyż wymaga ona stworzenia 52 obiektów. By to usprawnić, wypiszemy dwie listy - dla figur i kolorów kart i stworzymy funkcję która stworzy nam ich wszystkie możliwe kombinacje:"
   ]
  },
  {
   "cell_type": "code",
   "execution_count": 25,
   "id": "46d4a929",
   "metadata": {},
   "outputs": [
    {
     "data": {
      "text/plain": [
       "(['2', '3', '4', '5', '6', '7', '8', '9', '10', 'J', 'Q', 'K', 'A'],\n",
       " ['♣', '♢', '♡', '♠'])"
      ]
     },
     "execution_count": 25,
     "metadata": {},
     "output_type": "execute_result"
    }
   ],
   "source": [
    "RANKS = '2 3 4 5 6 7 8 9 10 J Q K A'.split()\n",
    "SUITS = '♣ ♢ ♡ ♠'.split()\n",
    "\n",
    "RANKS, SUITS"
   ]
  },
  {
   "cell_type": "code",
   "execution_count": 26,
   "id": "a5dd6a0e",
   "metadata": {},
   "outputs": [
    {
     "data": {
      "text/plain": [
       "[DataClassCard(rank='2', suit='♣'),\n",
       " DataClassCard(rank='3', suit='♣'),\n",
       " DataClassCard(rank='4', suit='♣'),\n",
       " DataClassCard(rank='5', suit='♣'),\n",
       " DataClassCard(rank='6', suit='♣'),\n",
       " DataClassCard(rank='7', suit='♣'),\n",
       " DataClassCard(rank='8', suit='♣'),\n",
       " DataClassCard(rank='9', suit='♣'),\n",
       " DataClassCard(rank='10', suit='♣'),\n",
       " DataClassCard(rank='J', suit='♣'),\n",
       " DataClassCard(rank='Q', suit='♣'),\n",
       " DataClassCard(rank='K', suit='♣'),\n",
       " DataClassCard(rank='A', suit='♣'),\n",
       " DataClassCard(rank='2', suit='♢'),\n",
       " DataClassCard(rank='3', suit='♢'),\n",
       " DataClassCard(rank='4', suit='♢'),\n",
       " DataClassCard(rank='5', suit='♢'),\n",
       " DataClassCard(rank='6', suit='♢'),\n",
       " DataClassCard(rank='7', suit='♢'),\n",
       " DataClassCard(rank='8', suit='♢'),\n",
       " DataClassCard(rank='9', suit='♢'),\n",
       " DataClassCard(rank='10', suit='♢'),\n",
       " DataClassCard(rank='J', suit='♢'),\n",
       " DataClassCard(rank='Q', suit='♢'),\n",
       " DataClassCard(rank='K', suit='♢'),\n",
       " DataClassCard(rank='A', suit='♢'),\n",
       " DataClassCard(rank='2', suit='♡'),\n",
       " DataClassCard(rank='3', suit='♡'),\n",
       " DataClassCard(rank='4', suit='♡'),\n",
       " DataClassCard(rank='5', suit='♡'),\n",
       " DataClassCard(rank='6', suit='♡'),\n",
       " DataClassCard(rank='7', suit='♡'),\n",
       " DataClassCard(rank='8', suit='♡'),\n",
       " DataClassCard(rank='9', suit='♡'),\n",
       " DataClassCard(rank='10', suit='♡'),\n",
       " DataClassCard(rank='J', suit='♡'),\n",
       " DataClassCard(rank='Q', suit='♡'),\n",
       " DataClassCard(rank='K', suit='♡'),\n",
       " DataClassCard(rank='A', suit='♡'),\n",
       " DataClassCard(rank='2', suit='♠'),\n",
       " DataClassCard(rank='3', suit='♠'),\n",
       " DataClassCard(rank='4', suit='♠'),\n",
       " DataClassCard(rank='5', suit='♠'),\n",
       " DataClassCard(rank='6', suit='♠'),\n",
       " DataClassCard(rank='7', suit='♠'),\n",
       " DataClassCard(rank='8', suit='♠'),\n",
       " DataClassCard(rank='9', suit='♠'),\n",
       " DataClassCard(rank='10', suit='♠'),\n",
       " DataClassCard(rank='J', suit='♠'),\n",
       " DataClassCard(rank='Q', suit='♠'),\n",
       " DataClassCard(rank='K', suit='♠'),\n",
       " DataClassCard(rank='A', suit='♠')]"
      ]
     },
     "execution_count": 26,
     "metadata": {},
     "output_type": "execute_result"
    }
   ],
   "source": [
    "def make_french_deck():\n",
    "    return [DataClassCard(r, s) for s in SUITS for r in RANKS]\n",
    "make_french_deck()"
   ]
  },
  {
   "cell_type": "markdown",
   "id": "b8c1dac9",
   "metadata": {},
   "source": [
    "Zatem klase talli kart możemy więc stworzyć wywojując po prostu tą funkcje, prawda?"
   ]
  },
  {
   "cell_type": "code",
   "execution_count": 27,
   "id": "4b90d5ed",
   "metadata": {},
   "outputs": [
    {
     "ename": "ValueError",
     "evalue": "mutable default <class 'list'> for field cards is not allowed: use default_factory",
     "output_type": "error",
     "traceback": [
      "\u001b[1;31m---------------------------------------------------------------------------\u001b[0m",
      "\u001b[1;31mValueError\u001b[0m                                Traceback (most recent call last)",
      "\u001b[1;32m~\\AppData\\Local\\Temp/ipykernel_6296/1241929751.py\u001b[0m in \u001b[0;36m<module>\u001b[1;34m\u001b[0m\n\u001b[0;32m      1\u001b[0m \u001b[1;33m@\u001b[0m\u001b[0mdataclass\u001b[0m\u001b[1;33m\u001b[0m\u001b[1;33m\u001b[0m\u001b[0m\n\u001b[1;32m----> 2\u001b[1;33m \u001b[1;32mclass\u001b[0m \u001b[0mDeck\u001b[0m\u001b[1;33m:\u001b[0m\u001b[1;33m\u001b[0m\u001b[1;33m\u001b[0m\u001b[0m\n\u001b[0m\u001b[0;32m      3\u001b[0m    \u001b[0mcards\u001b[0m\u001b[1;33m:\u001b[0m \u001b[0mList\u001b[0m\u001b[1;33m[\u001b[0m\u001b[0mDataClassCard\u001b[0m\u001b[1;33m]\u001b[0m \u001b[1;33m=\u001b[0m \u001b[0mmake_french_deck\u001b[0m\u001b[1;33m(\u001b[0m\u001b[1;33m)\u001b[0m\u001b[1;33m\u001b[0m\u001b[1;33m\u001b[0m\u001b[0m\n",
      "\u001b[1;32m~\\anaconda3\\lib\\dataclasses.py\u001b[0m in \u001b[0;36mdataclass\u001b[1;34m(cls, init, repr, eq, order, unsafe_hash, frozen)\u001b[0m\n\u001b[0;32m   1019\u001b[0m \u001b[1;33m\u001b[0m\u001b[0m\n\u001b[0;32m   1020\u001b[0m     \u001b[1;31m# We're called as @dataclass without parens.\u001b[0m\u001b[1;33m\u001b[0m\u001b[1;33m\u001b[0m\u001b[0m\n\u001b[1;32m-> 1021\u001b[1;33m     \u001b[1;32mreturn\u001b[0m \u001b[0mwrap\u001b[0m\u001b[1;33m(\u001b[0m\u001b[0mcls\u001b[0m\u001b[1;33m)\u001b[0m\u001b[1;33m\u001b[0m\u001b[1;33m\u001b[0m\u001b[0m\n\u001b[0m\u001b[0;32m   1022\u001b[0m \u001b[1;33m\u001b[0m\u001b[0m\n\u001b[0;32m   1023\u001b[0m \u001b[1;33m\u001b[0m\u001b[0m\n",
      "\u001b[1;32m~\\anaconda3\\lib\\dataclasses.py\u001b[0m in \u001b[0;36mwrap\u001b[1;34m(cls)\u001b[0m\n\u001b[0;32m   1011\u001b[0m \u001b[1;33m\u001b[0m\u001b[0m\n\u001b[0;32m   1012\u001b[0m     \u001b[1;32mdef\u001b[0m \u001b[0mwrap\u001b[0m\u001b[1;33m(\u001b[0m\u001b[0mcls\u001b[0m\u001b[1;33m)\u001b[0m\u001b[1;33m:\u001b[0m\u001b[1;33m\u001b[0m\u001b[1;33m\u001b[0m\u001b[0m\n\u001b[1;32m-> 1013\u001b[1;33m         \u001b[1;32mreturn\u001b[0m \u001b[0m_process_class\u001b[0m\u001b[1;33m(\u001b[0m\u001b[0mcls\u001b[0m\u001b[1;33m,\u001b[0m \u001b[0minit\u001b[0m\u001b[1;33m,\u001b[0m \u001b[0mrepr\u001b[0m\u001b[1;33m,\u001b[0m \u001b[0meq\u001b[0m\u001b[1;33m,\u001b[0m \u001b[0morder\u001b[0m\u001b[1;33m,\u001b[0m \u001b[0munsafe_hash\u001b[0m\u001b[1;33m,\u001b[0m \u001b[0mfrozen\u001b[0m\u001b[1;33m)\u001b[0m\u001b[1;33m\u001b[0m\u001b[1;33m\u001b[0m\u001b[0m\n\u001b[0m\u001b[0;32m   1014\u001b[0m \u001b[1;33m\u001b[0m\u001b[0m\n\u001b[0;32m   1015\u001b[0m     \u001b[1;31m# See if we're being called as @dataclass or @dataclass().\u001b[0m\u001b[1;33m\u001b[0m\u001b[1;33m\u001b[0m\u001b[0m\n",
      "\u001b[1;32m~\\anaconda3\\lib\\dataclasses.py\u001b[0m in \u001b[0;36m_process_class\u001b[1;34m(cls, init, repr, eq, order, unsafe_hash, frozen)\u001b[0m\n\u001b[0;32m    861\u001b[0m     \u001b[1;31m# things, and set the default values (as class attributes) where\u001b[0m\u001b[1;33m\u001b[0m\u001b[1;33m\u001b[0m\u001b[0m\n\u001b[0;32m    862\u001b[0m     \u001b[1;31m# we can.\u001b[0m\u001b[1;33m\u001b[0m\u001b[1;33m\u001b[0m\u001b[0m\n\u001b[1;32m--> 863\u001b[1;33m     cls_fields = [_get_field(cls, name, type)\n\u001b[0m\u001b[0;32m    864\u001b[0m                   for name, type in cls_annotations.items()]\n\u001b[0;32m    865\u001b[0m     \u001b[1;32mfor\u001b[0m \u001b[0mf\u001b[0m \u001b[1;32min\u001b[0m \u001b[0mcls_fields\u001b[0m\u001b[1;33m:\u001b[0m\u001b[1;33m\u001b[0m\u001b[1;33m\u001b[0m\u001b[0m\n",
      "\u001b[1;32m~\\anaconda3\\lib\\dataclasses.py\u001b[0m in \u001b[0;36m<listcomp>\u001b[1;34m(.0)\u001b[0m\n\u001b[0;32m    861\u001b[0m     \u001b[1;31m# things, and set the default values (as class attributes) where\u001b[0m\u001b[1;33m\u001b[0m\u001b[1;33m\u001b[0m\u001b[0m\n\u001b[0;32m    862\u001b[0m     \u001b[1;31m# we can.\u001b[0m\u001b[1;33m\u001b[0m\u001b[1;33m\u001b[0m\u001b[0m\n\u001b[1;32m--> 863\u001b[1;33m     cls_fields = [_get_field(cls, name, type)\n\u001b[0m\u001b[0;32m    864\u001b[0m                   for name, type in cls_annotations.items()]\n\u001b[0;32m    865\u001b[0m     \u001b[1;32mfor\u001b[0m \u001b[0mf\u001b[0m \u001b[1;32min\u001b[0m \u001b[0mcls_fields\u001b[0m\u001b[1;33m:\u001b[0m\u001b[1;33m\u001b[0m\u001b[1;33m\u001b[0m\u001b[0m\n",
      "\u001b[1;32m~\\anaconda3\\lib\\dataclasses.py\u001b[0m in \u001b[0;36m_get_field\u001b[1;34m(cls, a_name, a_type)\u001b[0m\n\u001b[0;32m    745\u001b[0m     \u001b[1;31m# For real fields, disallow mutable defaults for known types.\u001b[0m\u001b[1;33m\u001b[0m\u001b[1;33m\u001b[0m\u001b[0m\n\u001b[0;32m    746\u001b[0m     \u001b[1;32mif\u001b[0m \u001b[0mf\u001b[0m\u001b[1;33m.\u001b[0m\u001b[0m_field_type\u001b[0m \u001b[1;32mis\u001b[0m \u001b[0m_FIELD\u001b[0m \u001b[1;32mand\u001b[0m \u001b[0misinstance\u001b[0m\u001b[1;33m(\u001b[0m\u001b[0mf\u001b[0m\u001b[1;33m.\u001b[0m\u001b[0mdefault\u001b[0m\u001b[1;33m,\u001b[0m \u001b[1;33m(\u001b[0m\u001b[0mlist\u001b[0m\u001b[1;33m,\u001b[0m \u001b[0mdict\u001b[0m\u001b[1;33m,\u001b[0m \u001b[0mset\u001b[0m\u001b[1;33m)\u001b[0m\u001b[1;33m)\u001b[0m\u001b[1;33m:\u001b[0m\u001b[1;33m\u001b[0m\u001b[1;33m\u001b[0m\u001b[0m\n\u001b[1;32m--> 747\u001b[1;33m         raise ValueError(f'mutable default {type(f.default)} for field '\n\u001b[0m\u001b[0;32m    748\u001b[0m                          f'{f.name} is not allowed: use default_factory')\n\u001b[0;32m    749\u001b[0m \u001b[1;33m\u001b[0m\u001b[0m\n",
      "\u001b[1;31mValueError\u001b[0m: mutable default <class 'list'> for field cards is not allowed: use default_factory"
     ]
    }
   ],
   "source": [
    "@dataclass\n",
    "class Deck:\n",
    "   cards: List[DataClassCard] = make_french_deck()"
   ]
  },
  {
   "cell_type": "markdown",
   "id": "ce1b7927",
   "metadata": {},
   "source": [
    "Otóż nie, bo wyskakuje error. Dzieje sie tak, gdyż tworzymy talię przy pomocy 'mutowalnego' obiektu. Oznacza to że zmiana tego obiektu (np usunięcie pojedynczej karty z pojedynczej talii) usunię ją również z każdej innej talii stworzonej przez tą metode.\n",
    "Dlatego python jest wyuczony by odrzucać takie rozwiązania oraz jest specjalna komenda \"field\" stworzona by sobie radzić z mutowalnymi obiektami bazowymi poprzez indywidualne przypisywanie do nich wartości."
   ]
  },
  {
   "cell_type": "code",
   "execution_count": 63,
   "id": "4af740ce",
   "metadata": {},
   "outputs": [],
   "source": [
    "from dataclasses import field\n",
    "\n",
    "@dataclass\n",
    "class Deck:\n",
    "    cards: List[DataClassCard] = field(default_factory=make_french_deck)"
   ]
  },
  {
   "cell_type": "code",
   "execution_count": 64,
   "id": "677b41f5",
   "metadata": {
    "scrolled": true
   },
   "outputs": [
    {
     "data": {
      "text/plain": [
       "Deck(cards=[DataClassCard(rank='2', suit='♣'), DataClassCard(rank='3', suit='♣'), DataClassCard(rank='4', suit='♣'), DataClassCard(rank='5', suit='♣'), DataClassCard(rank='6', suit='♣'), DataClassCard(rank='7', suit='♣'), DataClassCard(rank='8', suit='♣'), DataClassCard(rank='9', suit='♣'), DataClassCard(rank='10', suit='♣'), DataClassCard(rank='J', suit='♣'), DataClassCard(rank='Q', suit='♣'), DataClassCard(rank='K', suit='♣'), DataClassCard(rank='A', suit='♣'), DataClassCard(rank='2', suit='♢'), DataClassCard(rank='3', suit='♢'), DataClassCard(rank='4', suit='♢'), DataClassCard(rank='5', suit='♢'), DataClassCard(rank='6', suit='♢'), DataClassCard(rank='7', suit='♢'), DataClassCard(rank='8', suit='♢'), DataClassCard(rank='9', suit='♢'), DataClassCard(rank='10', suit='♢'), DataClassCard(rank='J', suit='♢'), DataClassCard(rank='Q', suit='♢'), DataClassCard(rank='K', suit='♢'), DataClassCard(rank='A', suit='♢'), DataClassCard(rank='2', suit='♡'), DataClassCard(rank='3', suit='♡'), DataClassCard(rank='4', suit='♡'), DataClassCard(rank='5', suit='♡'), DataClassCard(rank='6', suit='♡'), DataClassCard(rank='7', suit='♡'), DataClassCard(rank='8', suit='♡'), DataClassCard(rank='9', suit='♡'), DataClassCard(rank='10', suit='♡'), DataClassCard(rank='J', suit='♡'), DataClassCard(rank='Q', suit='♡'), DataClassCard(rank='K', suit='♡'), DataClassCard(rank='A', suit='♡'), DataClassCard(rank='2', suit='♠'), DataClassCard(rank='3', suit='♠'), DataClassCard(rank='4', suit='♠'), DataClassCard(rank='5', suit='♠'), DataClassCard(rank='6', suit='♠'), DataClassCard(rank='7', suit='♠'), DataClassCard(rank='8', suit='♠'), DataClassCard(rank='9', suit='♠'), DataClassCard(rank='10', suit='♠'), DataClassCard(rank='J', suit='♠'), DataClassCard(rank='Q', suit='♠'), DataClassCard(rank='K', suit='♠'), DataClassCard(rank='A', suit='♠')])"
      ]
     },
     "execution_count": 64,
     "metadata": {},
     "output_type": "execute_result"
    }
   ],
   "source": [
    "Deck()"
   ]
  },
  {
   "cell_type": "markdown",
   "id": "3a4d748c",
   "metadata": {},
   "source": [
    "Jak widać nasz kod jest krótki a talia kompletna. Można tylko poprawić jej estetyke, poprzez ręczne zmodyfikowanie metod str i repr: "
   ]
  },
  {
   "cell_type": "code",
   "execution_count": 85,
   "id": "49953a61",
   "metadata": {},
   "outputs": [],
   "source": [
    "@dataclass\n",
    "class DataClassCard:\n",
    "    rank: str\n",
    "    suit: str\n",
    "        \n",
    "    def __str__(self):\n",
    "        return f'{self.suit}{self.rank}'\n",
    "    \n",
    "\n",
    "@dataclass\n",
    "class Deck:\n",
    "    cards: List[DataClassCard] = field(default_factory=make_french_deck)\n",
    "\n",
    "    def __repr__(self):\n",
    "        cards = ', '.join(f'{c!s}' for c in self.cards)\n",
    "        return f'{self.__class__.__name__}({cards})' "
   ]
  },
  {
   "cell_type": "code",
   "execution_count": 86,
   "id": "5be79c15",
   "metadata": {
    "scrolled": true
   },
   "outputs": [
    {
     "data": {
      "text/plain": [
       "Deck(♣2, ♣3, ♣4, ♣5, ♣6, ♣7, ♣8, ♣9, ♣10, ♣J, ♣Q, ♣K, ♣A, ♢2, ♢3, ♢4, ♢5, ♢6, ♢7, ♢8, ♢9, ♢10, ♢J, ♢Q, ♢K, ♢A, ♡2, ♡3, ♡4, ♡5, ♡6, ♡7, ♡8, ♡9, ♡10, ♡J, ♡Q, ♡K, ♡A, ♠2, ♠3, ♠4, ♠5, ♠6, ♠7, ♠8, ♠9, ♠10, ♠J, ♠Q, ♠K, ♠A)"
      ]
     },
     "execution_count": 86,
     "metadata": {},
     "output_type": "execute_result"
    }
   ],
   "source": [
    "Deck()"
   ]
  },
  {
   "cell_type": "markdown",
   "id": "a47c63dd",
   "metadata": {},
   "source": [
    "# Sortowanie"
   ]
  },
  {
   "cell_type": "markdown",
   "id": "4c88c87f",
   "metadata": {},
   "source": [
    "Naszym kolejnym a zarazem ostatnim celem bedzie możliwość porównywania mocy tych kart. Do tego skorzystamy z jednej z możlwiwych opcji dostępnej przy tworzeniu dataklasy - argumentu order:"
   ]
  },
  {
   "cell_type": "code",
   "execution_count": 32,
   "id": "6aafa29f",
   "metadata": {},
   "outputs": [],
   "source": [
    "@dataclass(order=True)\n",
    "\n",
    "class DataClassCard:\n",
    "    rank: str\n",
    "    suit: str"
   ]
  },
  {
   "cell_type": "code",
   "execution_count": 33,
   "id": "5e6330af",
   "metadata": {},
   "outputs": [
    {
     "data": {
      "text/plain": [
       "False"
      ]
     },
     "execution_count": 33,
     "metadata": {},
     "output_type": "execute_result"
    }
   ],
   "source": [
    "queen_of_hearts = DataClassCard('Q', '♡')\n",
    "ace_of_spades = DataClassCard('A', '♠')\n",
    "ace_of_spades > queen_of_hearts"
   ]
  },
  {
   "cell_type": "markdown",
   "id": "060d73ff",
   "metadata": {},
   "source": [
    "Bez określonej ręcznie metody porównywania kart, komenda order porównuje je jak obiekty którymi są, czyli tuple. Stąd ponieważ w alfabecie Q występuje później niż A to python uważa, że Q>A."
   ]
  },
  {
   "cell_type": "markdown",
   "id": "22a61157",
   "metadata": {},
   "source": [
    "Zatem by móc sortowac i porównywać nasze karty, do każdej z nich dodamy liczbowy parametr sort_index, który będzie liczbowym wyznacznikiem ich mocy. Skorzystamy tutaj z faktu, że nasza wcześniejsza lista RANKS jest już posortowana, więc ich numer indeksu w liście będzie służył jako liczba mocy: "
   ]
  },
  {
   "cell_type": "code",
   "execution_count": 68,
   "id": "f44f2034",
   "metadata": {},
   "outputs": [],
   "source": [
    "@dataclass(order=True)\n",
    "class DataClassCard:\n",
    "    sort_index: int = field(init=False)\n",
    "    rank: str\n",
    "    suit: str\n",
    "\n",
    "    def __post_init__(self):\n",
    "        self.sort_index = (RANKS.index(self.rank))\n",
    "\n",
    "    def __str__(self):\n",
    "        return f'{self.suit}{self.rank}'"
   ]
  },
  {
   "cell_type": "markdown",
   "id": "7b77472e",
   "metadata": {},
   "source": [
    "W tym kodzie należy spostrzec dwie rzeczy:"
   ]
  },
  {
   "cell_type": "markdown",
   "id": "2dc3aa77",
   "metadata": {},
   "source": [
    "1. Parametr sort_index jest wyliczany w metodzie post_init."
   ]
  },
  {
   "cell_type": "markdown",
   "id": "7f83db12",
   "metadata": {},
   "source": [
    "2. Przy definiowaniu sort_index przypisujemy mu bazową wartość jako funkcje field gdzie init ma przypisaną wartość logiczną False. "
   ]
  },
  {
   "cell_type": "markdown",
   "id": "f37539ee",
   "metadata": {},
   "source": [
    "Obie te własności wynikają z faktu, że wartości sort_index są wyliczanie na podstawie innych parametrów podanych na początku dataklasy (tak jakby podanych w init). Stąd mamy specjalnie dopisany field, by go nie wliczać do \"zawartości\" inita oraz specjalną metode post init umożliwiającą wyliczanie wartości wybranych parametrów podanych w init na podstawie innych parametrów występujących w init."
   ]
  },
  {
   "cell_type": "markdown",
   "id": "d975e760",
   "metadata": {},
   "source": [
    "Testowanie:"
   ]
  },
  {
   "cell_type": "code",
   "execution_count": 35,
   "id": "c3d50274",
   "metadata": {},
   "outputs": [
    {
     "data": {
      "text/plain": [
       "True"
      ]
     },
     "execution_count": 35,
     "metadata": {},
     "output_type": "execute_result"
    }
   ],
   "source": [
    "queen_of_hearts = DataClassCard('Q', '♡')\n",
    "ace_of_spades = DataClassCard('A', '♠')\n",
    "ace_of_spades > queen_of_hearts"
   ]
  },
  {
   "cell_type": "code",
   "execution_count": 36,
   "id": "985f4cd7",
   "metadata": {},
   "outputs": [
    {
     "data": {
      "text/plain": [
       "True"
      ]
     },
     "execution_count": 36,
     "metadata": {},
     "output_type": "execute_result"
    }
   ],
   "source": [
    "ace_of_hearts = DataClassCard('A', '♡')\n",
    "ace_of_spades <= ace_of_hearts"
   ]
  },
  {
   "cell_type": "code",
   "execution_count": 37,
   "id": "e291c611",
   "metadata": {},
   "outputs": [
    {
     "data": {
      "text/plain": [
       "False"
      ]
     },
     "execution_count": 37,
     "metadata": {},
     "output_type": "execute_result"
    }
   ],
   "source": [
    "ace_of_hearts < queen_of_hearts "
   ]
  },
  {
   "cell_type": "markdown",
   "id": "28394f67",
   "metadata": {},
   "source": [
    "Zatem możemy finalnie stworzyć posortowaną talię kart przy pomocy wbudowanej funkcji sorted:"
   ]
  },
  {
   "cell_type": "code",
   "execution_count": 38,
   "id": "67df0d70",
   "metadata": {},
   "outputs": [
    {
     "data": {
      "text/plain": [
       "Deck(♠2, ♡2, ♢2, ♣2, ♠3, ♡3, ♢3, ♣3, ♠4, ♡4, ♢4, ♣4, ♠5, ♡5, ♢5, ♣5, ♠6, ♡6, ♢6, ♣6, ♠7, ♡7, ♢7, ♣7, ♠8, ♡8, ♢8, ♣8, ♠9, ♡9, ♢9, ♣9, ♠10, ♡10, ♢10, ♣10, ♠J, ♡J, ♢J, ♣J, ♠Q, ♡Q, ♢Q, ♣Q, ♠K, ♡K, ♢K, ♣K, ♠A, ♡A, ♢A, ♣A)"
      ]
     },
     "execution_count": 38,
     "metadata": {},
     "output_type": "execute_result"
    }
   ],
   "source": [
    "Deck(sorted(make_french_deck()))"
   ]
  },
  {
   "cell_type": "markdown",
   "id": "3d00330f",
   "metadata": {},
   "source": [
    "Finalne pytanie może brzmieć czy dataklasa przy definiowaniu może zawierać jeszcze jakieś inne parametry oprócz tutaj wymienionych. Istnieją jeszcze dwie metody: frozen i unsafe_hash, które domyślnie przybierają wartości False, i są powiązane z ustawieniami co do mutowalności tworzonej dataklasy (zmiana ich wartości na True powoduje niemutowalność dataklasy, czyli nie możemy do niej przypisać własnej wartości)."
   ]
  },
  {
   "cell_type": "code",
   "execution_count": 39,
   "id": "f50f2bd1",
   "metadata": {},
   "outputs": [
    {
     "data": {
      "text/plain": [
       "aaa(rank=1, suit='a', sit=0.5)"
      ]
     },
     "execution_count": 39,
     "metadata": {},
     "output_type": "execute_result"
    }
   ],
   "source": [
    "@dataclass(init=True, eq=True, repr=True, order=True, frozen=True, unsafe_hash=True)\n",
    "class aaa:\n",
    "    rank: int = 1\n",
    "    suit: str = \"a\"\n",
    "    sit: float = 0.5   \n",
    "aaa()"
   ]
  }
 ],
 "metadata": {
  "kernelspec": {
   "display_name": "Python 3 (ipykernel)",
   "language": "python",
   "name": "python3"
  },
  "language_info": {
   "codemirror_mode": {
    "name": "ipython",
    "version": 3
   },
   "file_extension": ".py",
   "mimetype": "text/x-python",
   "name": "python",
   "nbconvert_exporter": "python",
   "pygments_lexer": "ipython3",
   "version": "3.9.7"
  }
 },
 "nbformat": 4,
 "nbformat_minor": 5
}
